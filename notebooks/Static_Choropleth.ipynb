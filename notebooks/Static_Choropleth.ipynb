{
 "cells": [
  {
   "cell_type": "code",
   "execution_count": 29,
   "metadata": {},
   "outputs": [],
   "source": [
    "# Important libraries\n",
    "\n",
    "import numpy as np \n",
    "import pandas as pd \n",
    "import plotly as py\n",
    "import plotly.express as px\n",
    "import plotly.graph_objs as pg_obj\n",
    "from plotly.subplots import make_subplots\n",
    "from plotly.offline import download_plotlyjs,plot, iplot"
   ]
  },
  {
   "cell_type": "markdown",
   "metadata": {},
   "source": [
    "## Loading Dataset"
   ]
  },
  {
   "cell_type": "code",
   "execution_count": 30,
   "metadata": {},
   "outputs": [],
   "source": [
    "covid_df = pd.read_csv(\"covid_19_data.csv\")"
   ]
  },
  {
   "cell_type": "code",
   "execution_count": 37,
   "metadata": {},
   "outputs": [],
   "source": [
    "# Renaming Some Columns\n",
    "\n",
    "covid_df = covid_df.rename(columns={'Country/Region' : 'Country'}) # Renamed Country/Region to Country\n",
    "covid_df = covid_df.rename(columns={'ObservationDate' : 'Date'}) # Renamed ObservatinDate to Date\n",
    "\n"
   ]
  },
  {
   "cell_type": "code",
   "execution_count": 38,
   "metadata": {},
   "outputs": [],
   "source": [
    "# Data Manipulation\n",
    "\n",
    "'''\n",
    "\n",
    "Creating a Smaller Sub Data Frame that contains only Country and Data.\n",
    "Deleting duplicate data points.\n",
    "Selecting countires that have covid cases i.e Greater than 0.\n",
    "\n",
    "\n",
    "'''\n",
    "countries_df = covid_df.groupby(['Country', 'Date']).sum().reset_index().sort_values('Date', ascending = False)\n",
    "countries_df = countries_df.drop_duplicates(subset = ['Country'])\n",
    "countries_df = countries_df[countries_df['Confirmed'] > 0]"
   ]
  },
  {
   "cell_type": "code",
   "execution_count": 39,
   "metadata": {},
   "outputs": [
    {
     "data": {
      "text/html": [
       "<div>\n",
       "<style scoped>\n",
       "    .dataframe tbody tr th:only-of-type {\n",
       "        vertical-align: middle;\n",
       "    }\n",
       "\n",
       "    .dataframe tbody tr th {\n",
       "        vertical-align: top;\n",
       "    }\n",
       "\n",
       "    .dataframe thead th {\n",
       "        text-align: right;\n",
       "    }\n",
       "</style>\n",
       "<table border=\"1\" class=\"dataframe\">\n",
       "  <thead>\n",
       "    <tr style=\"text-align: right;\">\n",
       "      <th></th>\n",
       "      <th>Country</th>\n",
       "      <th>Date</th>\n",
       "      <th>SNo</th>\n",
       "      <th>Confirmed</th>\n",
       "      <th>Deaths</th>\n",
       "      <th>Recovered</th>\n",
       "    </tr>\n",
       "  </thead>\n",
       "  <tbody>\n",
       "    <tr>\n",
       "      <th>6450</th>\n",
       "      <td>St. Martin</td>\n",
       "      <td>03/09/2020</td>\n",
       "      <td>4412</td>\n",
       "      <td>2.0</td>\n",
       "      <td>0.0</td>\n",
       "      <td>0.0</td>\n",
       "    </tr>\n",
       "    <tr>\n",
       "      <th>7357</th>\n",
       "      <td>Vatican City</td>\n",
       "      <td>03/09/2020</td>\n",
       "      <td>4507</td>\n",
       "      <td>1.0</td>\n",
       "      <td>0.0</td>\n",
       "      <td>0.0</td>\n",
       "    </tr>\n",
       "    <tr>\n",
       "      <th>5536</th>\n",
       "      <td>Republic of Ireland</td>\n",
       "      <td>03/08/2020</td>\n",
       "      <td>4067</td>\n",
       "      <td>21.0</td>\n",
       "      <td>0.0</td>\n",
       "      <td>0.0</td>\n",
       "    </tr>\n",
       "    <tr>\n",
       "      <th>0</th>\n",
       "      <td>Azerbaijan</td>\n",
       "      <td>02/28/2020</td>\n",
       "      <td>2664</td>\n",
       "      <td>1.0</td>\n",
       "      <td>0.0</td>\n",
       "      <td>0.0</td>\n",
       "    </tr>\n",
       "    <tr>\n",
       "      <th>4967</th>\n",
       "      <td>North Ireland</td>\n",
       "      <td>02/28/2020</td>\n",
       "      <td>2685</td>\n",
       "      <td>1.0</td>\n",
       "      <td>0.0</td>\n",
       "      <td>0.0</td>\n",
       "    </tr>\n",
       "  </tbody>\n",
       "</table>\n",
       "</div>"
      ],
      "text/plain": [
       "                  Country        Date   SNo  Confirmed  Deaths  Recovered\n",
       "6450           St. Martin  03/09/2020  4412        2.0     0.0        0.0\n",
       "7357         Vatican City  03/09/2020  4507        1.0     0.0        0.0\n",
       "5536  Republic of Ireland  03/08/2020  4067       21.0     0.0        0.0\n",
       "0              Azerbaijan  02/28/2020  2664        1.0     0.0        0.0\n",
       "4967        North Ireland  02/28/2020  2685        1.0     0.0        0.0"
      ]
     },
     "execution_count": 39,
     "metadata": {},
     "output_type": "execute_result"
    }
   ],
   "source": [
    "countries_df.tail()"
   ]
  },
  {
   "cell_type": "markdown",
   "metadata": {},
   "source": [
    "## Choropleth Visualisation"
   ]
  },
  {
   "cell_type": "code",
   "execution_count": 42,
   "metadata": {},
   "outputs": [
    {
     "data": {
      "application/vnd.plotly.v1+json": {
       "config": {
        "plotlyServerURL": "https://plot.ly"
       },
       "data": [
        {
         "colorscale": [
          [
           0,
           "rgb(255,245,240)"
          ],
          [
           0.125,
           "rgb(254,224,210)"
          ],
          [
           0.25,
           "rgb(252,187,161)"
          ],
          [
           0.375,
           "rgb(252,146,114)"
          ],
          [
           0.5,
           "rgb(251,106,74)"
          ],
          [
           0.625,
           "rgb(239,59,44)"
          ],
          [
           0.75,
           "rgb(203,24,29)"
          ],
          [
           0.875,
           "rgb(165,15,21)"
          ],
          [
           1,
           "rgb(103,0,13)"
          ]
         ],
         "locationmode": "country names",
         "locations": [
          "Senegal",
          "Burundi",
          "Iraq",
          "Argentina",
          "Burkina Faso",
          "Iran",
          "Pakistan",
          "Burma",
          "Panama",
          "North Macedonia",
          "Tanzania",
          "Indonesia",
          "Cabo Verde",
          "Papua New Guinea",
          "India",
          "Uruguay",
          "Ireland",
          "Taiwan",
          "Bulgaria",
          "Israel",
          "Syria",
          "Slovakia",
          "Oman",
          "Brunei",
          "Italy",
          "Norway",
          "Ivory Coast",
          "Jamaica",
          "Switzerland",
          "Armenia",
          "Brazil",
          "Japan",
          "Sweden",
          "Zambia",
          "Paraguay",
          "Antigua and Barbuda",
          "United Arab Emirates",
          "Trinidad and Tobago",
          "Germany",
          "Canada",
          "Ghana",
          "Portugal",
          "Greece",
          "Grenada",
          "Ukraine",
          "Guatemala",
          "Guinea",
          "Andorra",
          "Sierra Leone",
          "Poland",
          "Guinea-Bissau",
          "Philippines",
          "Thailand",
          "Guyana",
          "Cameroon",
          "Haiti",
          "Angola",
          "Holy See",
          "Honduras",
          "Togo",
          "Cambodia",
          "Singapore",
          "Peru",
          "Timor-Leste",
          "Hong Kong",
          "Hungary",
          "Iceland",
          "Jordan",
          "Kazakhstan",
          "Seychelles",
          "Austria",
          "South Korea",
          "Venezuela",
          "South Sudan",
          "Malawi",
          "Namibia",
          "South Africa",
          "Mainland China",
          "Botswana",
          "Belarus",
          "Spain",
          "Sri Lanka",
          "Madagascar",
          "Macau",
          "Nepal",
          "Mozambique",
          "Barbados",
          "Morocco",
          "Malaysia",
          "Bangladesh",
          "Maldives",
          "Montenegro",
          "Mali",
          "Malta",
          "Bahrain",
          "Azerbaijan",
          "Mauritania",
          "Mongolia",
          "Mauritius",
          "Mexico",
          "Moldova",
          "Monaco",
          "Somalia",
          "Sudan",
          "MS Zaandam",
          "Bhutan",
          "Bosnia and Herzegovina",
          "Slovenia",
          "Yemen",
          "Western Sahara",
          "Kenya",
          "West Bank and Gaza",
          "Kosovo",
          "Kuwait",
          "Nigeria",
          "Bolivia",
          "Vietnam",
          "Niger",
          "Kyrgyzstan",
          "Laos",
          "Nicaragua",
          "Luxembourg",
          "Latvia",
          "Lebanon",
          "New Zealand",
          "Liberia",
          "Uzbekistan",
          "Benin",
          "Libya",
          "Liechtenstein",
          "Suriname",
          "Australia",
          "Belize",
          "Lithuania",
          "Belgium",
          "Netherlands",
          "Qatar",
          "Bahamas",
          "US",
          "Fiji",
          "Costa Rica",
          "Saint Kitts and Nevis",
          "Chad",
          "Ethiopia",
          "Denmark",
          "Gambia",
          "Diamond Princess",
          "Congo (Kinshasa)",
          "Colombia",
          "UK",
          "Djibouti",
          "Sao Tome and Principe",
          "Saint Vincent and the Grenadines",
          "Gabon",
          "El Salvador",
          "Uganda",
          "Serbia",
          "Croatia",
          "Dominica",
          "Egypt",
          "Russia",
          "San Marino",
          "Saint Lucia",
          "Romania",
          "Saudi Arabia",
          "Tunisia",
          "Zimbabwe",
          "Czech Republic",
          "Ecuador",
          "Congo (Brazzaville)",
          "Estonia",
          "Rwanda",
          "Cyprus",
          "Central African Republic",
          "Georgia",
          "Finland",
          "Turkey",
          "Dominican Republic",
          "Eritrea",
          "Albania",
          "France",
          "Algeria",
          "Cuba",
          "Afghanistan",
          "Equatorial Guinea",
          "Chile",
          "Eswatini",
          "Others",
          "East Timor",
          "Mayotte",
          "Reunion",
          "Gambia, The",
          "Martinique",
          "French Guiana",
          "Cape Verde",
          "Bahamas, The",
          "Guadeloupe",
          "Aruba",
          "Cayman Islands",
          "Curacao",
          "Channel Islands",
          "Gibraltar",
          "Faroe Islands",
          "Saint Barthelemy",
          "('St. Martin',)",
          "Palestine",
          "St. Martin",
          "Vatican City",
          "Republic of Ireland",
          " Azerbaijan",
          "North Ireland"
         ],
         "marker": {
          "line": {
           "color": "black",
           "width": 0.5
          }
         },
         "type": "choropleth",
         "z": [
          278,
          5,
          1318,
          1975,
          484,
          70029,
          5011,
          38,
          2974,
          760,
          32,
          3842,
          8,
          2,
          8446,
          494,
          8928,
          385,
          661,
          10743,
          25,
          728,
          546,
          136,
          152271,
          6409,
          533,
          65,
          25107,
          967,
          20727,
          6005,
          10151,
          40,
          133,
          21,
          3736,
          112,
          124908,
          23316,
          408,
          15987,
          2081,
          14,
          2511,
          137,
          250,
          601,
          8,
          6356,
          38,
          4428,
          2518,
          45,
          820,
          33,
          19,
          8,
          392,
          76,
          120,
          2299,
          6848,
          2,
          1000,
          1310,
          1689,
          381,
          865,
          11,
          13806,
          10480,
          175,
          4,
          12,
          16,
          2028,
          81969,
          13,
          2226,
          163027,
          198,
          102,
          45,
          9,
          20,
          68,
          1545,
          4530,
          482,
          19,
          263,
          87,
          370,
          1040,
          1058,
          7,
          16,
          319,
          3844,
          1560,
          92,
          21,
          19,
          9,
          5,
          946,
          1188,
          1,
          4,
          191,
          268,
          283,
          1154,
          318,
          275,
          258,
          491,
          339,
          18,
          8,
          3270,
          630,
          619,
          1312,
          48,
          767,
          35,
          24,
          79,
          10,
          6303,
          13,
          1026,
          28018,
          24571,
          2728,
          46,
          526396,
          16,
          577,
          12,
          11,
          69,
          6191,
          9,
          712,
          223,
          2709,
          79874,
          187,
          4,
          12,
          46,
          118,
          53,
          3380,
          1534,
          16,
          1939,
          13584,
          356,
          15,
          5990,
          4033,
          685,
          14,
          5831,
          7257,
          60,
          1304,
          120,
          616,
          8,
          242,
          2905,
          52167,
          2759,
          34,
          433,
          130727,
          1825,
          620,
          555,
          18,
          6927,
          12,
          712,
          1,
          7,
          45,
          1,
          32,
          18,
          1,
          4,
          53,
          4,
          1,
          1,
          1,
          1,
          2,
          1,
          2,
          22,
          2,
          1,
          21,
          1,
          1
         ]
        }
       ],
       "layout": {
        "geo": {
         "projection": {
          "type": "equirectangular"
         },
         "showcoastlines": false,
         "showframe": false
        },
        "template": {
         "data": {
          "bar": [
           {
            "error_x": {
             "color": "#2a3f5f"
            },
            "error_y": {
             "color": "#2a3f5f"
            },
            "marker": {
             "line": {
              "color": "#E5ECF6",
              "width": 0.5
             }
            },
            "type": "bar"
           }
          ],
          "barpolar": [
           {
            "marker": {
             "line": {
              "color": "#E5ECF6",
              "width": 0.5
             }
            },
            "type": "barpolar"
           }
          ],
          "carpet": [
           {
            "aaxis": {
             "endlinecolor": "#2a3f5f",
             "gridcolor": "white",
             "linecolor": "white",
             "minorgridcolor": "white",
             "startlinecolor": "#2a3f5f"
            },
            "baxis": {
             "endlinecolor": "#2a3f5f",
             "gridcolor": "white",
             "linecolor": "white",
             "minorgridcolor": "white",
             "startlinecolor": "#2a3f5f"
            },
            "type": "carpet"
           }
          ],
          "choropleth": [
           {
            "colorbar": {
             "outlinewidth": 0,
             "ticks": ""
            },
            "type": "choropleth"
           }
          ],
          "contour": [
           {
            "colorbar": {
             "outlinewidth": 0,
             "ticks": ""
            },
            "colorscale": [
             [
              0,
              "#0d0887"
             ],
             [
              0.1111111111111111,
              "#46039f"
             ],
             [
              0.2222222222222222,
              "#7201a8"
             ],
             [
              0.3333333333333333,
              "#9c179e"
             ],
             [
              0.4444444444444444,
              "#bd3786"
             ],
             [
              0.5555555555555556,
              "#d8576b"
             ],
             [
              0.6666666666666666,
              "#ed7953"
             ],
             [
              0.7777777777777778,
              "#fb9f3a"
             ],
             [
              0.8888888888888888,
              "#fdca26"
             ],
             [
              1,
              "#f0f921"
             ]
            ],
            "type": "contour"
           }
          ],
          "contourcarpet": [
           {
            "colorbar": {
             "outlinewidth": 0,
             "ticks": ""
            },
            "type": "contourcarpet"
           }
          ],
          "heatmap": [
           {
            "colorbar": {
             "outlinewidth": 0,
             "ticks": ""
            },
            "colorscale": [
             [
              0,
              "#0d0887"
             ],
             [
              0.1111111111111111,
              "#46039f"
             ],
             [
              0.2222222222222222,
              "#7201a8"
             ],
             [
              0.3333333333333333,
              "#9c179e"
             ],
             [
              0.4444444444444444,
              "#bd3786"
             ],
             [
              0.5555555555555556,
              "#d8576b"
             ],
             [
              0.6666666666666666,
              "#ed7953"
             ],
             [
              0.7777777777777778,
              "#fb9f3a"
             ],
             [
              0.8888888888888888,
              "#fdca26"
             ],
             [
              1,
              "#f0f921"
             ]
            ],
            "type": "heatmap"
           }
          ],
          "heatmapgl": [
           {
            "colorbar": {
             "outlinewidth": 0,
             "ticks": ""
            },
            "colorscale": [
             [
              0,
              "#0d0887"
             ],
             [
              0.1111111111111111,
              "#46039f"
             ],
             [
              0.2222222222222222,
              "#7201a8"
             ],
             [
              0.3333333333333333,
              "#9c179e"
             ],
             [
              0.4444444444444444,
              "#bd3786"
             ],
             [
              0.5555555555555556,
              "#d8576b"
             ],
             [
              0.6666666666666666,
              "#ed7953"
             ],
             [
              0.7777777777777778,
              "#fb9f3a"
             ],
             [
              0.8888888888888888,
              "#fdca26"
             ],
             [
              1,
              "#f0f921"
             ]
            ],
            "type": "heatmapgl"
           }
          ],
          "histogram": [
           {
            "marker": {
             "colorbar": {
              "outlinewidth": 0,
              "ticks": ""
             }
            },
            "type": "histogram"
           }
          ],
          "histogram2d": [
           {
            "colorbar": {
             "outlinewidth": 0,
             "ticks": ""
            },
            "colorscale": [
             [
              0,
              "#0d0887"
             ],
             [
              0.1111111111111111,
              "#46039f"
             ],
             [
              0.2222222222222222,
              "#7201a8"
             ],
             [
              0.3333333333333333,
              "#9c179e"
             ],
             [
              0.4444444444444444,
              "#bd3786"
             ],
             [
              0.5555555555555556,
              "#d8576b"
             ],
             [
              0.6666666666666666,
              "#ed7953"
             ],
             [
              0.7777777777777778,
              "#fb9f3a"
             ],
             [
              0.8888888888888888,
              "#fdca26"
             ],
             [
              1,
              "#f0f921"
             ]
            ],
            "type": "histogram2d"
           }
          ],
          "histogram2dcontour": [
           {
            "colorbar": {
             "outlinewidth": 0,
             "ticks": ""
            },
            "colorscale": [
             [
              0,
              "#0d0887"
             ],
             [
              0.1111111111111111,
              "#46039f"
             ],
             [
              0.2222222222222222,
              "#7201a8"
             ],
             [
              0.3333333333333333,
              "#9c179e"
             ],
             [
              0.4444444444444444,
              "#bd3786"
             ],
             [
              0.5555555555555556,
              "#d8576b"
             ],
             [
              0.6666666666666666,
              "#ed7953"
             ],
             [
              0.7777777777777778,
              "#fb9f3a"
             ],
             [
              0.8888888888888888,
              "#fdca26"
             ],
             [
              1,
              "#f0f921"
             ]
            ],
            "type": "histogram2dcontour"
           }
          ],
          "mesh3d": [
           {
            "colorbar": {
             "outlinewidth": 0,
             "ticks": ""
            },
            "type": "mesh3d"
           }
          ],
          "parcoords": [
           {
            "line": {
             "colorbar": {
              "outlinewidth": 0,
              "ticks": ""
             }
            },
            "type": "parcoords"
           }
          ],
          "pie": [
           {
            "automargin": true,
            "type": "pie"
           }
          ],
          "scatter": [
           {
            "marker": {
             "colorbar": {
              "outlinewidth": 0,
              "ticks": ""
             }
            },
            "type": "scatter"
           }
          ],
          "scatter3d": [
           {
            "line": {
             "colorbar": {
              "outlinewidth": 0,
              "ticks": ""
             }
            },
            "marker": {
             "colorbar": {
              "outlinewidth": 0,
              "ticks": ""
             }
            },
            "type": "scatter3d"
           }
          ],
          "scattercarpet": [
           {
            "marker": {
             "colorbar": {
              "outlinewidth": 0,
              "ticks": ""
             }
            },
            "type": "scattercarpet"
           }
          ],
          "scattergeo": [
           {
            "marker": {
             "colorbar": {
              "outlinewidth": 0,
              "ticks": ""
             }
            },
            "type": "scattergeo"
           }
          ],
          "scattergl": [
           {
            "marker": {
             "colorbar": {
              "outlinewidth": 0,
              "ticks": ""
             }
            },
            "type": "scattergl"
           }
          ],
          "scattermapbox": [
           {
            "marker": {
             "colorbar": {
              "outlinewidth": 0,
              "ticks": ""
             }
            },
            "type": "scattermapbox"
           }
          ],
          "scatterpolar": [
           {
            "marker": {
             "colorbar": {
              "outlinewidth": 0,
              "ticks": ""
             }
            },
            "type": "scatterpolar"
           }
          ],
          "scatterpolargl": [
           {
            "marker": {
             "colorbar": {
              "outlinewidth": 0,
              "ticks": ""
             }
            },
            "type": "scatterpolargl"
           }
          ],
          "scatterternary": [
           {
            "marker": {
             "colorbar": {
              "outlinewidth": 0,
              "ticks": ""
             }
            },
            "type": "scatterternary"
           }
          ],
          "surface": [
           {
            "colorbar": {
             "outlinewidth": 0,
             "ticks": ""
            },
            "colorscale": [
             [
              0,
              "#0d0887"
             ],
             [
              0.1111111111111111,
              "#46039f"
             ],
             [
              0.2222222222222222,
              "#7201a8"
             ],
             [
              0.3333333333333333,
              "#9c179e"
             ],
             [
              0.4444444444444444,
              "#bd3786"
             ],
             [
              0.5555555555555556,
              "#d8576b"
             ],
             [
              0.6666666666666666,
              "#ed7953"
             ],
             [
              0.7777777777777778,
              "#fb9f3a"
             ],
             [
              0.8888888888888888,
              "#fdca26"
             ],
             [
              1,
              "#f0f921"
             ]
            ],
            "type": "surface"
           }
          ],
          "table": [
           {
            "cells": {
             "fill": {
              "color": "#EBF0F8"
             },
             "line": {
              "color": "white"
             }
            },
            "header": {
             "fill": {
              "color": "#C8D4E3"
             },
             "line": {
              "color": "white"
             }
            },
            "type": "table"
           }
          ]
         },
         "layout": {
          "annotationdefaults": {
           "arrowcolor": "#2a3f5f",
           "arrowhead": 0,
           "arrowwidth": 1
          },
          "coloraxis": {
           "colorbar": {
            "outlinewidth": 0,
            "ticks": ""
           }
          },
          "colorscale": {
           "diverging": [
            [
             0,
             "#8e0152"
            ],
            [
             0.1,
             "#c51b7d"
            ],
            [
             0.2,
             "#de77ae"
            ],
            [
             0.3,
             "#f1b6da"
            ],
            [
             0.4,
             "#fde0ef"
            ],
            [
             0.5,
             "#f7f7f7"
            ],
            [
             0.6,
             "#e6f5d0"
            ],
            [
             0.7,
             "#b8e186"
            ],
            [
             0.8,
             "#7fbc41"
            ],
            [
             0.9,
             "#4d9221"
            ],
            [
             1,
             "#276419"
            ]
           ],
           "sequential": [
            [
             0,
             "#0d0887"
            ],
            [
             0.1111111111111111,
             "#46039f"
            ],
            [
             0.2222222222222222,
             "#7201a8"
            ],
            [
             0.3333333333333333,
             "#9c179e"
            ],
            [
             0.4444444444444444,
             "#bd3786"
            ],
            [
             0.5555555555555556,
             "#d8576b"
            ],
            [
             0.6666666666666666,
             "#ed7953"
            ],
            [
             0.7777777777777778,
             "#fb9f3a"
            ],
            [
             0.8888888888888888,
             "#fdca26"
            ],
            [
             1,
             "#f0f921"
            ]
           ],
           "sequentialminus": [
            [
             0,
             "#0d0887"
            ],
            [
             0.1111111111111111,
             "#46039f"
            ],
            [
             0.2222222222222222,
             "#7201a8"
            ],
            [
             0.3333333333333333,
             "#9c179e"
            ],
            [
             0.4444444444444444,
             "#bd3786"
            ],
            [
             0.5555555555555556,
             "#d8576b"
            ],
            [
             0.6666666666666666,
             "#ed7953"
            ],
            [
             0.7777777777777778,
             "#fb9f3a"
            ],
            [
             0.8888888888888888,
             "#fdca26"
            ],
            [
             1,
             "#f0f921"
            ]
           ]
          },
          "colorway": [
           "#636efa",
           "#EF553B",
           "#00cc96",
           "#ab63fa",
           "#FFA15A",
           "#19d3f3",
           "#FF6692",
           "#B6E880",
           "#FF97FF",
           "#FECB52"
          ],
          "font": {
           "color": "#2a3f5f"
          },
          "geo": {
           "bgcolor": "white",
           "lakecolor": "white",
           "landcolor": "#E5ECF6",
           "showlakes": true,
           "showland": true,
           "subunitcolor": "white"
          },
          "hoverlabel": {
           "align": "left"
          },
          "hovermode": "closest",
          "mapbox": {
           "style": "light"
          },
          "paper_bgcolor": "white",
          "plot_bgcolor": "#E5ECF6",
          "polar": {
           "angularaxis": {
            "gridcolor": "white",
            "linecolor": "white",
            "ticks": ""
           },
           "bgcolor": "#E5ECF6",
           "radialaxis": {
            "gridcolor": "white",
            "linecolor": "white",
            "ticks": ""
           }
          },
          "scene": {
           "xaxis": {
            "backgroundcolor": "#E5ECF6",
            "gridcolor": "white",
            "gridwidth": 2,
            "linecolor": "white",
            "showbackground": true,
            "ticks": "",
            "zerolinecolor": "white"
           },
           "yaxis": {
            "backgroundcolor": "#E5ECF6",
            "gridcolor": "white",
            "gridwidth": 2,
            "linecolor": "white",
            "showbackground": true,
            "ticks": "",
            "zerolinecolor": "white"
           },
           "zaxis": {
            "backgroundcolor": "#E5ECF6",
            "gridcolor": "white",
            "gridwidth": 2,
            "linecolor": "white",
            "showbackground": true,
            "ticks": "",
            "zerolinecolor": "white"
           }
          },
          "shapedefaults": {
           "line": {
            "color": "#2a3f5f"
           }
          },
          "ternary": {
           "aaxis": {
            "gridcolor": "white",
            "linecolor": "white",
            "ticks": ""
           },
           "baxis": {
            "gridcolor": "white",
            "linecolor": "white",
            "ticks": ""
           },
           "bgcolor": "#E5ECF6",
           "caxis": {
            "gridcolor": "white",
            "linecolor": "white",
            "ticks": ""
           }
          },
          "title": {
           "x": 0.05
          },
          "xaxis": {
           "automargin": true,
           "gridcolor": "white",
           "linecolor": "white",
           "ticks": "",
           "title": {
            "standoff": 15
           },
           "zerolinecolor": "white",
           "zerolinewidth": 2
          },
          "yaxis": {
           "automargin": true,
           "gridcolor": "white",
           "linecolor": "white",
           "ticks": "",
           "title": {
            "standoff": 15
           },
           "zerolinecolor": "white",
           "zerolinewidth": 2
          }
         }
        },
        "title": {
         "text": "Confirmed Cases as of April 11 2020",
         "x": 0.5
        }
       }
      },
      "text/html": [
       "<div>\n",
       "        \n",
       "        \n",
       "            <div id=\"812660ba-eb77-43b3-ad27-3cca58e17bea\" class=\"plotly-graph-div\" style=\"height:525px; width:100%;\"></div>\n",
       "            <script type=\"text/javascript\">\n",
       "                require([\"plotly\"], function(Plotly) {\n",
       "                    window.PLOTLYENV=window.PLOTLYENV || {};\n",
       "                    \n",
       "                if (document.getElementById(\"812660ba-eb77-43b3-ad27-3cca58e17bea\")) {\n",
       "                    Plotly.newPlot(\n",
       "                        '812660ba-eb77-43b3-ad27-3cca58e17bea',\n",
       "                        [{\"colorscale\": [[0.0, \"rgb(255,245,240)\"], [0.125, \"rgb(254,224,210)\"], [0.25, \"rgb(252,187,161)\"], [0.375, \"rgb(252,146,114)\"], [0.5, \"rgb(251,106,74)\"], [0.625, \"rgb(239,59,44)\"], [0.75, \"rgb(203,24,29)\"], [0.875, \"rgb(165,15,21)\"], [1.0, \"rgb(103,0,13)\"]], \"locationmode\": \"country names\", \"locations\": [\"Senegal\", \"Burundi\", \"Iraq\", \"Argentina\", \"Burkina Faso\", \"Iran\", \"Pakistan\", \"Burma\", \"Panama\", \"North Macedonia\", \"Tanzania\", \"Indonesia\", \"Cabo Verde\", \"Papua New Guinea\", \"India\", \"Uruguay\", \"Ireland\", \"Taiwan\", \"Bulgaria\", \"Israel\", \"Syria\", \"Slovakia\", \"Oman\", \"Brunei\", \"Italy\", \"Norway\", \"Ivory Coast\", \"Jamaica\", \"Switzerland\", \"Armenia\", \"Brazil\", \"Japan\", \"Sweden\", \"Zambia\", \"Paraguay\", \"Antigua and Barbuda\", \"United Arab Emirates\", \"Trinidad and Tobago\", \"Germany\", \"Canada\", \"Ghana\", \"Portugal\", \"Greece\", \"Grenada\", \"Ukraine\", \"Guatemala\", \"Guinea\", \"Andorra\", \"Sierra Leone\", \"Poland\", \"Guinea-Bissau\", \"Philippines\", \"Thailand\", \"Guyana\", \"Cameroon\", \"Haiti\", \"Angola\", \"Holy See\", \"Honduras\", \"Togo\", \"Cambodia\", \"Singapore\", \"Peru\", \"Timor-Leste\", \"Hong Kong\", \"Hungary\", \"Iceland\", \"Jordan\", \"Kazakhstan\", \"Seychelles\", \"Austria\", \"South Korea\", \"Venezuela\", \"South Sudan\", \"Malawi\", \"Namibia\", \"South Africa\", \"Mainland China\", \"Botswana\", \"Belarus\", \"Spain\", \"Sri Lanka\", \"Madagascar\", \"Macau\", \"Nepal\", \"Mozambique\", \"Barbados\", \"Morocco\", \"Malaysia\", \"Bangladesh\", \"Maldives\", \"Montenegro\", \"Mali\", \"Malta\", \"Bahrain\", \"Azerbaijan\", \"Mauritania\", \"Mongolia\", \"Mauritius\", \"Mexico\", \"Moldova\", \"Monaco\", \"Somalia\", \"Sudan\", \"MS Zaandam\", \"Bhutan\", \"Bosnia and Herzegovina\", \"Slovenia\", \"Yemen\", \"Western Sahara\", \"Kenya\", \"West Bank and Gaza\", \"Kosovo\", \"Kuwait\", \"Nigeria\", \"Bolivia\", \"Vietnam\", \"Niger\", \"Kyrgyzstan\", \"Laos\", \"Nicaragua\", \"Luxembourg\", \"Latvia\", \"Lebanon\", \"New Zealand\", \"Liberia\", \"Uzbekistan\", \"Benin\", \"Libya\", \"Liechtenstein\", \"Suriname\", \"Australia\", \"Belize\", \"Lithuania\", \"Belgium\", \"Netherlands\", \"Qatar\", \"Bahamas\", \"US\", \"Fiji\", \"Costa Rica\", \"Saint Kitts and Nevis\", \"Chad\", \"Ethiopia\", \"Denmark\", \"Gambia\", \"Diamond Princess\", \"Congo (Kinshasa)\", \"Colombia\", \"UK\", \"Djibouti\", \"Sao Tome and Principe\", \"Saint Vincent and the Grenadines\", \"Gabon\", \"El Salvador\", \"Uganda\", \"Serbia\", \"Croatia\", \"Dominica\", \"Egypt\", \"Russia\", \"San Marino\", \"Saint Lucia\", \"Romania\", \"Saudi Arabia\", \"Tunisia\", \"Zimbabwe\", \"Czech Republic\", \"Ecuador\", \"Congo (Brazzaville)\", \"Estonia\", \"Rwanda\", \"Cyprus\", \"Central African Republic\", \"Georgia\", \"Finland\", \"Turkey\", \"Dominican Republic\", \"Eritrea\", \"Albania\", \"France\", \"Algeria\", \"Cuba\", \"Afghanistan\", \"Equatorial Guinea\", \"Chile\", \"Eswatini\", \"Others\", \"East Timor\", \"Mayotte\", \"Reunion\", \"Gambia, The\", \"Martinique\", \"French Guiana\", \"Cape Verde\", \"Bahamas, The\", \"Guadeloupe\", \"Aruba\", \"Cayman Islands\", \"Curacao\", \"Channel Islands\", \"Gibraltar\", \"Faroe Islands\", \"Saint Barthelemy\", \"('St. Martin',)\", \"Palestine\", \"St. Martin\", \"Vatican City\", \"Republic of Ireland\", \" Azerbaijan\", \"North Ireland\"], \"marker\": {\"line\": {\"color\": \"black\", \"width\": 0.5}}, \"type\": \"choropleth\", \"z\": [278.0, 5.0, 1318.0, 1975.0, 484.0, 70029.0, 5011.0, 38.0, 2974.0, 760.0, 32.0, 3842.0, 8.0, 2.0, 8446.0, 494.0, 8928.0, 385.0, 661.0, 10743.0, 25.0, 728.0, 546.0, 136.0, 152271.0, 6409.0, 533.0, 65.0, 25107.0, 967.0, 20727.0, 6005.0, 10151.0, 40.0, 133.0, 21.0, 3736.0, 112.0, 124908.0, 23316.0, 408.0, 15987.0, 2081.0, 14.0, 2511.0, 137.0, 250.0, 601.0, 8.0, 6356.0, 38.0, 4428.0, 2518.0, 45.0, 820.0, 33.0, 19.0, 8.0, 392.0, 76.0, 120.0, 2299.0, 6848.0, 2.0, 1000.0, 1310.0, 1689.0, 381.0, 865.0, 11.0, 13806.0, 10480.0, 175.0, 4.0, 12.0, 16.0, 2028.0, 81969.0, 13.0, 2226.0, 163027.0, 198.0, 102.0, 45.0, 9.0, 20.0, 68.0, 1545.0, 4530.0, 482.0, 19.0, 263.0, 87.0, 370.0, 1040.0, 1058.0, 7.0, 16.0, 319.0, 3844.0, 1560.0, 92.0, 21.0, 19.0, 9.0, 5.0, 946.0, 1188.0, 1.0, 4.0, 191.0, 268.0, 283.0, 1154.0, 318.0, 275.0, 258.0, 491.0, 339.0, 18.0, 8.0, 3270.0, 630.0, 619.0, 1312.0, 48.0, 767.0, 35.0, 24.0, 79.0, 10.0, 6303.0, 13.0, 1026.0, 28018.0, 24571.0, 2728.0, 46.0, 526396.0, 16.0, 577.0, 12.0, 11.0, 69.0, 6191.0, 9.0, 712.0, 223.0, 2709.0, 79874.0, 187.0, 4.0, 12.0, 46.0, 118.0, 53.0, 3380.0, 1534.0, 16.0, 1939.0, 13584.0, 356.0, 15.0, 5990.0, 4033.0, 685.0, 14.0, 5831.0, 7257.0, 60.0, 1304.0, 120.0, 616.0, 8.0, 242.0, 2905.0, 52167.0, 2759.0, 34.0, 433.0, 130727.0, 1825.0, 620.0, 555.0, 18.0, 6927.0, 12.0, 712.0, 1.0, 7.0, 45.0, 1.0, 32.0, 18.0, 1.0, 4.0, 53.0, 4.0, 1.0, 1.0, 1.0, 1.0, 2.0, 1.0, 2.0, 22.0, 2.0, 1.0, 21.0, 1.0, 1.0]}],\n",
       "                        {\"geo\": {\"projection\": {\"type\": \"equirectangular\"}, \"showcoastlines\": false, \"showframe\": false}, \"template\": {\"data\": {\"bar\": [{\"error_x\": {\"color\": \"#2a3f5f\"}, \"error_y\": {\"color\": \"#2a3f5f\"}, \"marker\": {\"line\": {\"color\": \"#E5ECF6\", \"width\": 0.5}}, \"type\": \"bar\"}], \"barpolar\": [{\"marker\": {\"line\": {\"color\": \"#E5ECF6\", \"width\": 0.5}}, \"type\": \"barpolar\"}], \"carpet\": [{\"aaxis\": {\"endlinecolor\": \"#2a3f5f\", \"gridcolor\": \"white\", \"linecolor\": \"white\", \"minorgridcolor\": \"white\", \"startlinecolor\": \"#2a3f5f\"}, \"baxis\": {\"endlinecolor\": \"#2a3f5f\", \"gridcolor\": \"white\", \"linecolor\": \"white\", \"minorgridcolor\": \"white\", \"startlinecolor\": \"#2a3f5f\"}, \"type\": \"carpet\"}], \"choropleth\": [{\"colorbar\": {\"outlinewidth\": 0, \"ticks\": \"\"}, \"type\": \"choropleth\"}], \"contour\": [{\"colorbar\": {\"outlinewidth\": 0, \"ticks\": \"\"}, \"colorscale\": [[0.0, \"#0d0887\"], [0.1111111111111111, \"#46039f\"], [0.2222222222222222, \"#7201a8\"], [0.3333333333333333, \"#9c179e\"], [0.4444444444444444, \"#bd3786\"], [0.5555555555555556, \"#d8576b\"], [0.6666666666666666, \"#ed7953\"], [0.7777777777777778, \"#fb9f3a\"], [0.8888888888888888, \"#fdca26\"], [1.0, \"#f0f921\"]], \"type\": \"contour\"}], \"contourcarpet\": [{\"colorbar\": {\"outlinewidth\": 0, \"ticks\": \"\"}, \"type\": \"contourcarpet\"}], \"heatmap\": [{\"colorbar\": {\"outlinewidth\": 0, \"ticks\": \"\"}, \"colorscale\": [[0.0, \"#0d0887\"], [0.1111111111111111, \"#46039f\"], [0.2222222222222222, \"#7201a8\"], [0.3333333333333333, \"#9c179e\"], [0.4444444444444444, \"#bd3786\"], [0.5555555555555556, \"#d8576b\"], [0.6666666666666666, \"#ed7953\"], [0.7777777777777778, \"#fb9f3a\"], [0.8888888888888888, \"#fdca26\"], [1.0, \"#f0f921\"]], \"type\": \"heatmap\"}], \"heatmapgl\": [{\"colorbar\": {\"outlinewidth\": 0, \"ticks\": \"\"}, \"colorscale\": [[0.0, \"#0d0887\"], [0.1111111111111111, \"#46039f\"], [0.2222222222222222, \"#7201a8\"], [0.3333333333333333, \"#9c179e\"], [0.4444444444444444, \"#bd3786\"], [0.5555555555555556, \"#d8576b\"], [0.6666666666666666, \"#ed7953\"], [0.7777777777777778, \"#fb9f3a\"], [0.8888888888888888, \"#fdca26\"], [1.0, \"#f0f921\"]], \"type\": \"heatmapgl\"}], \"histogram\": [{\"marker\": {\"colorbar\": {\"outlinewidth\": 0, \"ticks\": \"\"}}, \"type\": \"histogram\"}], \"histogram2d\": [{\"colorbar\": {\"outlinewidth\": 0, \"ticks\": \"\"}, \"colorscale\": [[0.0, \"#0d0887\"], [0.1111111111111111, \"#46039f\"], [0.2222222222222222, \"#7201a8\"], [0.3333333333333333, \"#9c179e\"], [0.4444444444444444, \"#bd3786\"], [0.5555555555555556, \"#d8576b\"], [0.6666666666666666, \"#ed7953\"], [0.7777777777777778, \"#fb9f3a\"], [0.8888888888888888, \"#fdca26\"], [1.0, \"#f0f921\"]], \"type\": \"histogram2d\"}], \"histogram2dcontour\": [{\"colorbar\": {\"outlinewidth\": 0, \"ticks\": \"\"}, \"colorscale\": [[0.0, \"#0d0887\"], [0.1111111111111111, \"#46039f\"], [0.2222222222222222, \"#7201a8\"], [0.3333333333333333, \"#9c179e\"], [0.4444444444444444, \"#bd3786\"], [0.5555555555555556, \"#d8576b\"], [0.6666666666666666, \"#ed7953\"], [0.7777777777777778, \"#fb9f3a\"], [0.8888888888888888, \"#fdca26\"], [1.0, \"#f0f921\"]], \"type\": \"histogram2dcontour\"}], \"mesh3d\": [{\"colorbar\": {\"outlinewidth\": 0, \"ticks\": \"\"}, \"type\": \"mesh3d\"}], \"parcoords\": [{\"line\": {\"colorbar\": {\"outlinewidth\": 0, \"ticks\": \"\"}}, \"type\": \"parcoords\"}], \"pie\": [{\"automargin\": true, \"type\": \"pie\"}], \"scatter\": [{\"marker\": {\"colorbar\": {\"outlinewidth\": 0, \"ticks\": \"\"}}, \"type\": \"scatter\"}], \"scatter3d\": [{\"line\": {\"colorbar\": {\"outlinewidth\": 0, \"ticks\": \"\"}}, \"marker\": {\"colorbar\": {\"outlinewidth\": 0, \"ticks\": \"\"}}, \"type\": \"scatter3d\"}], \"scattercarpet\": [{\"marker\": {\"colorbar\": {\"outlinewidth\": 0, \"ticks\": \"\"}}, \"type\": \"scattercarpet\"}], \"scattergeo\": [{\"marker\": {\"colorbar\": {\"outlinewidth\": 0, \"ticks\": \"\"}}, \"type\": \"scattergeo\"}], \"scattergl\": [{\"marker\": {\"colorbar\": {\"outlinewidth\": 0, \"ticks\": \"\"}}, \"type\": \"scattergl\"}], \"scattermapbox\": [{\"marker\": {\"colorbar\": {\"outlinewidth\": 0, \"ticks\": \"\"}}, \"type\": \"scattermapbox\"}], \"scatterpolar\": [{\"marker\": {\"colorbar\": {\"outlinewidth\": 0, \"ticks\": \"\"}}, \"type\": \"scatterpolar\"}], \"scatterpolargl\": [{\"marker\": {\"colorbar\": {\"outlinewidth\": 0, \"ticks\": \"\"}}, \"type\": \"scatterpolargl\"}], \"scatterternary\": [{\"marker\": {\"colorbar\": {\"outlinewidth\": 0, \"ticks\": \"\"}}, \"type\": \"scatterternary\"}], \"surface\": [{\"colorbar\": {\"outlinewidth\": 0, \"ticks\": \"\"}, \"colorscale\": [[0.0, \"#0d0887\"], [0.1111111111111111, \"#46039f\"], [0.2222222222222222, \"#7201a8\"], [0.3333333333333333, \"#9c179e\"], [0.4444444444444444, \"#bd3786\"], [0.5555555555555556, \"#d8576b\"], [0.6666666666666666, \"#ed7953\"], [0.7777777777777778, \"#fb9f3a\"], [0.8888888888888888, \"#fdca26\"], [1.0, \"#f0f921\"]], \"type\": \"surface\"}], \"table\": [{\"cells\": {\"fill\": {\"color\": \"#EBF0F8\"}, \"line\": {\"color\": \"white\"}}, \"header\": {\"fill\": {\"color\": \"#C8D4E3\"}, \"line\": {\"color\": \"white\"}}, \"type\": \"table\"}]}, \"layout\": {\"annotationdefaults\": {\"arrowcolor\": \"#2a3f5f\", \"arrowhead\": 0, \"arrowwidth\": 1}, \"coloraxis\": {\"colorbar\": {\"outlinewidth\": 0, \"ticks\": \"\"}}, \"colorscale\": {\"diverging\": [[0, \"#8e0152\"], [0.1, \"#c51b7d\"], [0.2, \"#de77ae\"], [0.3, \"#f1b6da\"], [0.4, \"#fde0ef\"], [0.5, \"#f7f7f7\"], [0.6, \"#e6f5d0\"], [0.7, \"#b8e186\"], [0.8, \"#7fbc41\"], [0.9, \"#4d9221\"], [1, \"#276419\"]], \"sequential\": [[0.0, \"#0d0887\"], [0.1111111111111111, \"#46039f\"], [0.2222222222222222, \"#7201a8\"], [0.3333333333333333, \"#9c179e\"], [0.4444444444444444, \"#bd3786\"], [0.5555555555555556, \"#d8576b\"], [0.6666666666666666, \"#ed7953\"], [0.7777777777777778, \"#fb9f3a\"], [0.8888888888888888, \"#fdca26\"], [1.0, \"#f0f921\"]], \"sequentialminus\": [[0.0, \"#0d0887\"], [0.1111111111111111, \"#46039f\"], [0.2222222222222222, \"#7201a8\"], [0.3333333333333333, \"#9c179e\"], [0.4444444444444444, \"#bd3786\"], [0.5555555555555556, \"#d8576b\"], [0.6666666666666666, \"#ed7953\"], [0.7777777777777778, \"#fb9f3a\"], [0.8888888888888888, \"#fdca26\"], [1.0, \"#f0f921\"]]}, \"colorway\": [\"#636efa\", \"#EF553B\", \"#00cc96\", \"#ab63fa\", \"#FFA15A\", \"#19d3f3\", \"#FF6692\", \"#B6E880\", \"#FF97FF\", \"#FECB52\"], \"font\": {\"color\": \"#2a3f5f\"}, \"geo\": {\"bgcolor\": \"white\", \"lakecolor\": \"white\", \"landcolor\": \"#E5ECF6\", \"showlakes\": true, \"showland\": true, \"subunitcolor\": \"white\"}, \"hoverlabel\": {\"align\": \"left\"}, \"hovermode\": \"closest\", \"mapbox\": {\"style\": \"light\"}, \"paper_bgcolor\": \"white\", \"plot_bgcolor\": \"#E5ECF6\", \"polar\": {\"angularaxis\": {\"gridcolor\": \"white\", \"linecolor\": \"white\", \"ticks\": \"\"}, \"bgcolor\": \"#E5ECF6\", \"radialaxis\": {\"gridcolor\": \"white\", \"linecolor\": \"white\", \"ticks\": \"\"}}, \"scene\": {\"xaxis\": {\"backgroundcolor\": \"#E5ECF6\", \"gridcolor\": \"white\", \"gridwidth\": 2, \"linecolor\": \"white\", \"showbackground\": true, \"ticks\": \"\", \"zerolinecolor\": \"white\"}, \"yaxis\": {\"backgroundcolor\": \"#E5ECF6\", \"gridcolor\": \"white\", \"gridwidth\": 2, \"linecolor\": \"white\", \"showbackground\": true, \"ticks\": \"\", \"zerolinecolor\": \"white\"}, \"zaxis\": {\"backgroundcolor\": \"#E5ECF6\", \"gridcolor\": \"white\", \"gridwidth\": 2, \"linecolor\": \"white\", \"showbackground\": true, \"ticks\": \"\", \"zerolinecolor\": \"white\"}}, \"shapedefaults\": {\"line\": {\"color\": \"#2a3f5f\"}}, \"ternary\": {\"aaxis\": {\"gridcolor\": \"white\", \"linecolor\": \"white\", \"ticks\": \"\"}, \"baxis\": {\"gridcolor\": \"white\", \"linecolor\": \"white\", \"ticks\": \"\"}, \"bgcolor\": \"#E5ECF6\", \"caxis\": {\"gridcolor\": \"white\", \"linecolor\": \"white\", \"ticks\": \"\"}}, \"title\": {\"x\": 0.05}, \"xaxis\": {\"automargin\": true, \"gridcolor\": \"white\", \"linecolor\": \"white\", \"ticks\": \"\", \"title\": {\"standoff\": 15}, \"zerolinecolor\": \"white\", \"zerolinewidth\": 2}, \"yaxis\": {\"automargin\": true, \"gridcolor\": \"white\", \"linecolor\": \"white\", \"ticks\": \"\", \"title\": {\"standoff\": 15}, \"zerolinecolor\": \"white\", \"zerolinewidth\": 2}}}, \"title\": {\"text\": \"Confirmed Cases as of April 11 2020\", \"x\": 0.5}},\n",
       "                        {\"responsive\": true}\n",
       "                    ).then(function(){\n",
       "                            \n",
       "var gd = document.getElementById('812660ba-eb77-43b3-ad27-3cca58e17bea');\n",
       "var x = new MutationObserver(function (mutations, observer) {{\n",
       "        var display = window.getComputedStyle(gd).display;\n",
       "        if (!display || display === 'none') {{\n",
       "            console.log([gd, 'removed!']);\n",
       "            Plotly.purge(gd);\n",
       "            observer.disconnect();\n",
       "        }}\n",
       "}});\n",
       "\n",
       "// Listen for the removal of the full notebook cells\n",
       "var notebookContainer = gd.closest('#notebook-container');\n",
       "if (notebookContainer) {{\n",
       "    x.observe(notebookContainer, {childList: true});\n",
       "}}\n",
       "\n",
       "// Listen for the clearing of the current output cell\n",
       "var outputEl = gd.closest('.output');\n",
       "if (outputEl) {{\n",
       "    x.observe(outputEl, {childList: true});\n",
       "}}\n",
       "\n",
       "                        })\n",
       "                };\n",
       "                });\n",
       "            </script>\n",
       "        </div>"
      ]
     },
     "metadata": {},
     "output_type": "display_data"
    }
   ],
   "source": [
    "'''\n",
    "\n",
    "Create a Pyplot.Object.Figure() instance.\n",
    "Setup Configurations.\n",
    "Setup Layout Configurations.\n",
    "\n",
    "\n",
    "\n",
    "\n",
    "\n",
    "'''\n",
    "\n",
    "\n",
    "\n",
    "# Pyplot Object Instance Creation with configurations\n",
    "\n",
    "viz = pg_obj.Figure(data=pg_obj.Choropleth(\n",
    "                locations = countries_df['Country'],\n",
    "                locationmode = 'country names',\n",
    "                z = countries_df['Confirmed'],\n",
    "                colorscale = 'Reds',\n",
    "                marker_line_color = 'black',\n",
    "                marker_line_width = 0.5,))\n",
    "\n",
    "\n",
    "# visualisation layout confgurations\n",
    "\n",
    "viz.update_layout(\n",
    "\n",
    "    title_text = 'Confirmed Cases as of April 11 2020',\n",
    "    title_x = 0.5,\n",
    "    geo = dict(\n",
    "    \n",
    "        showframe = False,\n",
    "        showcoastlines = False,\n",
    "        projection_type = 'equirectangular'\n",
    "    \n",
    "    )\n",
    "\n",
    "\n",
    ")"
   ]
  },
  {
   "cell_type": "code",
   "execution_count": null,
   "metadata": {},
   "outputs": [],
   "source": []
  }
 ],
 "metadata": {
  "kernelspec": {
   "display_name": "Python 3",
   "language": "python",
   "name": "python3"
  },
  "language_info": {
   "codemirror_mode": {
    "name": "ipython",
    "version": 3
   },
   "file_extension": ".py",
   "mimetype": "text/x-python",
   "name": "python",
   "nbconvert_exporter": "python",
   "pygments_lexer": "ipython3",
   "version": "3.7.6"
  }
 },
 "nbformat": 4,
 "nbformat_minor": 4
}
